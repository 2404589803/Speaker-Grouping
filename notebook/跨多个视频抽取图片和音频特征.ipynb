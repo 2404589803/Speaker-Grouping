{
  "nbformat": 4,
  "nbformat_minor": 0,
  "metadata": {
    "colab": {
      "provenance": [],
      "gpuType": "T4",
      "authorship_tag": "ABX9TyPvtEF2cH2GpUrUtWa44QeB",
      "include_colab_link": true
    },
    "kernelspec": {
      "name": "python3",
      "display_name": "Python 3"
    },
    "language_info": {
      "name": "python"
    },
    "accelerator": "GPU"
  },
  "cells": [
    {
      "cell_type": "markdown",
      "metadata": {
        "id": "view-in-github",
        "colab_type": "text"
      },
      "source": [
        "<a href=\"https://colab.research.google.com/github/LC1332/Speaker-Grouping/blob/main/notebook/%E8%B7%A8%E5%A4%9A%E4%B8%AA%E8%A7%86%E9%A2%91%E6%8A%BD%E5%8F%96%E5%9B%BE%E7%89%87%E5%92%8C%E9%9F%B3%E9%A2%91%E7%89%B9%E5%BE%81.ipynb\" target=\"_parent\"><img src=\"https://colab.research.google.com/assets/colab-badge.svg\" alt=\"Open In Colab\"/></a>"
      ]
    },
    {
      "cell_type": "markdown",
      "source": [
        "- [ ] 批量载入数据，批量解压缩\n",
        "- [ ] 构造meta\n",
        "- [ ] clone音频抽取，wget图片特征\n",
        "- [ ] 重构一个抽取类，输入meta和文件夹"
      ],
      "metadata": {
        "id": "CNEpne4dQyZD"
      }
    },
    {
      "cell_type": "markdown",
      "source": [
        "# 批量载入"
      ],
      "metadata": {
        "id": "uAZVFOStRJHc"
      }
    },
    {
      "cell_type": "code",
      "execution_count": 1,
      "metadata": {
        "colab": {
          "base_uri": "https://localhost:8080/"
        },
        "id": "zJ_Cy-75QuLx",
        "outputId": "46a33e5e-cd21-4869-c495-38678e2a581b"
      },
      "outputs": [
        {
          "output_type": "stream",
          "name": "stdout",
          "text": [
            "Mounted at /content/drive\n"
          ]
        }
      ],
      "source": [
        "from google.colab import drive\n",
        "drive.mount('/content/drive')"
      ]
    },
    {
      "cell_type": "code",
      "source": [
        "!ls /content/drive/MyDrive/Speaker/data"
      ],
      "metadata": {
        "colab": {
          "base_uri": "https://localhost:8080/"
        },
        "id": "NYPr1m8BRHxz",
        "outputId": "c8951454-9b9d-4054-80b5-e1bdf4ecea09"
      },
      "execution_count": 2,
      "outputs": [
        {
          "output_type": "stream",
          "name": "stdout",
          "text": [
            "haruhi_03.zip  liangjian_10.zip  亮剑12.zip  亮剑13.zip  亮剑15.zip  亮剑20.zip\n"
          ]
        }
      ]
    },
    {
      "cell_type": "code",
      "source": [
        "import shutil\n",
        "import zipfile\n",
        "import os\n",
        "\n",
        "def unzip_file(zip_file_name, zip_file_folder, target_dir=\"/content/\"):\n",
        "    \"\"\"\n",
        "    解压指定的 ZIP 文件到目标目录。\n",
        "\n",
        "    参数:\n",
        "    zip_file_name (str): ZIP 文件的名称。\n",
        "    zip_file_folder (str): ZIP 文件所在的文件夹路径。\n",
        "    target_dir (str): 解压后的目标文件夹路径，默认为 \"/content/\"。\n",
        "    \"\"\"\n",
        "    # 构建完整的 ZIP 文件路径\n",
        "    zip_path = os.path.join(zip_file_folder, zip_file_name)\n",
        "\n",
        "    # 复制 ZIP 文件到目标目录\n",
        "    shutil.copy(zip_path, target_dir)\n",
        "\n",
        "    # 构建解压后的目标文件夹路径\n",
        "    unzip_folder = os.path.join(target_dir, zip_file_name.replace('.zip', ''))\n",
        "\n",
        "    # 创建目标文件夹\n",
        "    if not os.path.exists(unzip_folder):\n",
        "        os.makedirs(unzip_folder)\n",
        "\n",
        "    # 解压 ZIP 文件\n",
        "    with zipfile.ZipFile(os.path.join(target_dir, zip_file_name), 'r') as zip_ref:\n",
        "        zip_ref.extractall(unzip_folder)\n",
        "\n",
        "    print(f'文件已解压到 {unzip_folder}')\n",
        "\n",
        "# ZIP 文件名列表\n",
        "zip_file_names = [\"亮剑12.zip\", \"亮剑13.zip\", \"亮剑15.zip\", \"亮剑20.zip\"]\n",
        "\n",
        "# ZIP 文件所在的文件夹路径\n",
        "zip_file_folder = \"/content/drive/MyDrive/Speaker/data/\"\n",
        "\n",
        "# 批量解压 ZIP 文件\n",
        "for zip_file_name in zip_file_names:\n",
        "    unzip_file(zip_file_name, zip_file_folder)\n"
      ],
      "metadata": {
        "colab": {
          "base_uri": "https://localhost:8080/"
        },
        "id": "FpdUPwfWRyEh",
        "outputId": "a6818c65-e38b-48e6-ac99-778a9b83599a"
      },
      "execution_count": 4,
      "outputs": [
        {
          "output_type": "stream",
          "name": "stdout",
          "text": [
            "文件已解压到 /content/亮剑12\n",
            "文件已解压到 /content/亮剑13\n",
            "文件已解压到 /content/亮剑15\n",
            "文件已解压到 /content/亮剑20\n"
          ]
        }
      ]
    },
    {
      "cell_type": "markdown",
      "source": [
        "# 批量构造meta"
      ],
      "metadata": {
        "id": "RPoeuRHZSG4t"
      }
    },
    {
      "cell_type": "code",
      "source": [
        "source_dirs = []\n",
        "for file_name in zip_file_names:\n",
        "    abstract_name = file_name.replace('.zip', '')\n",
        "    source_dirs.append(f\"/content/{abstract_name}/{abstract_name}\")"
      ],
      "metadata": {
        "id": "to3_4iAWR9bG"
      },
      "execution_count": 5,
      "outputs": []
    },
    {
      "cell_type": "code",
      "source": [
        "import pandas as pd\n",
        "\n",
        "def get_meta_data( source_dir ):\n",
        "    # 定义存有 JSONL 文件的目录\n",
        "    jsonl_file = f\"{source_dir}/meta.jsonl\"\n",
        "\n",
        "    # 读取 JSONL 文件到 pandas DataFrame\n",
        "    # lines=True 表示文件中的每一行都是一个独立的 JSON 对象\n",
        "    meta_data = pd.read_json(jsonl_file, lines=True)\n",
        "\n",
        "    # 确认 'screenshot_file' 列名是否正确，如果拼写错误则修正\n",
        "    if 'screeshot_file' in meta_data.columns:\n",
        "        meta_data.rename(columns={'screeshot_file': 'screenshot_file'}, inplace=True)\n",
        "\n",
        "    # 更新 audio_file 和 screenshot_file 列，增加 source_dir 路径\n",
        "    meta_data['audio_file'] = meta_data['audio_file'].apply(lambda x: os.path.join(source_dir, x))\n",
        "    meta_data['screenshot_file'] = meta_data['screenshot_file'].apply(lambda x: os.path.join(source_dir, x))\n",
        "\n",
        "    return meta_data\n",
        "\n",
        "meta_datas = [get_meta_data( source_dir ) for source_dir in source_dirs]\n",
        "\n",
        "print(meta_datas[0].head())\n"
      ],
      "metadata": {
        "colab": {
          "base_uri": "https://localhost:8080/"
        },
        "id": "NFoIhWwUSW0a",
        "outputId": "30b3ff0c-06b5-4d97-863f-db524d92de87"
      },
      "execution_count": 11,
      "outputs": [
        {
          "output_type": "stream",
          "name": "stdout",
          "text": [
            "    人物           人物台词          开始时间          结束时间  \\\n",
            "0  方立功    如果我们打掉了他的汽车  00:01:29.460  00:01:36.320   \n",
            "1  方立功      他就会经过电牌得志  00:01:36.320  00:01:38.560   \n",
            "2  方立功  那么他去西极据点就毫无意义  00:01:38.560  00:01:42.680   \n",
            "3  方立功   我想 他会向平安县城靠拢  00:01:42.680  00:01:49.440   \n",
            "4  方立功     将军岭是他的必经之地  00:01:49.440  00:01:52.400   \n",
            "\n",
            "                        audio_file                      screenshot_file  \n",
            "0  /content/亮剑12/亮剑12/audios/0.wav  /content/亮剑12/亮剑12/screeshots/0.jpg  \n",
            "1  /content/亮剑12/亮剑12/audios/1.wav  /content/亮剑12/亮剑12/screeshots/1.jpg  \n",
            "2  /content/亮剑12/亮剑12/audios/2.wav  /content/亮剑12/亮剑12/screeshots/2.jpg  \n",
            "3  /content/亮剑12/亮剑12/audios/3.wav  /content/亮剑12/亮剑12/screeshots/3.jpg  \n",
            "4  /content/亮剑12/亮剑12/audios/4.wav  /content/亮剑12/亮剑12/screeshots/4.jpg  \n"
          ]
        }
      ]
    },
    {
      "cell_type": "markdown",
      "source": [
        "# 安装环境"
      ],
      "metadata": {
        "id": "uCC2LGvsTm-H"
      }
    },
    {
      "cell_type": "code",
      "source": [
        "!git clone --filter=blob:none --no-checkout https://github.com/LC1332/Legacy-Haruhi-1.0\n",
        "%cd Legacy-Haruhi-1.0\n",
        "!git sparse-checkout init --cone\n",
        "!git sparse-checkout set yuki_builder/audio_feature_ext\n",
        "!git checkout\n",
        "\n",
        "%cd /content/Legacy-Haruhi-1.0/yuki_builder\n",
        "\n",
        "!wget -q https://raw.githubusercontent.com/LC1332/simple-face-recognition/main/CLIPExtractor.py"
      ],
      "metadata": {
        "colab": {
          "base_uri": "https://localhost:8080/"
        },
        "id": "6qT6hm_OSt7f",
        "outputId": "b7dc42c1-36b0-4b7d-a8ba-10c1a6750a11"
      },
      "execution_count": 12,
      "outputs": [
        {
          "output_type": "stream",
          "name": "stdout",
          "text": [
            "Cloning into 'Legacy-Haruhi-1.0'...\n",
            "remote: Enumerating objects: 316, done.\u001b[K\n",
            "remote: Counting objects: 100% (2/2), done.\u001b[K\n",
            "remote: Total 316 (delta 0), reused 2 (delta 0), pack-reused 314\u001b[K\n",
            "Receiving objects: 100% (316/316), 333.37 KiB | 20.83 MiB/s, done.\n",
            "Resolving deltas: 100% (6/6), done.\n",
            "/content/Legacy-Haruhi-1.0\n",
            "remote: Enumerating objects: 25, done.\u001b[K\n",
            "remote: Counting objects: 100% (1/1), done.\u001b[K\n",
            "remote: Total 25 (delta 0), reused 1 (delta 0), pack-reused 24\u001b[K\n",
            "Receiving objects: 100% (25/25), 50.88 KiB | 16.96 MiB/s, done.\n",
            "Your branch is up to date with 'origin/main'.\n",
            "/content/Legacy-Haruhi-1.0/yuki_builder\n"
          ]
        }
      ]
    },
    {
      "cell_type": "code",
      "source": [
        "import os\n",
        "import pandas as pd\n",
        "from CLIPExtractor import CLIPExtractor\n",
        "from audio_feature_ext.audio_fea_ext import AudioFeatureExtraction\n",
        "from tqdm import tqdm\n",
        "\n",
        "\n",
        "class NewAudioFeatureExtraction(AudioFeatureExtraction):\n",
        "    def extract_from_files(self, voice_files):\n",
        "        features = []\n",
        "        for file in tqdm(voice_files):\n",
        "            try:\n",
        "                feature = self.infer(file)[0]\n",
        "                features.append(feature)\n",
        "            except Exception as e:\n",
        "                print(f\"Error processing file {file}: {str(e)}\")\n",
        "                features.append([])\n",
        "                continue\n",
        "        return features\n",
        "\n",
        "\n",
        "class AudioVisualExtractor:\n",
        "    def __init__(self):\n",
        "        self.visual_extractor = CLIPExtractor()\n",
        "        self.audio_extractor = NewAudioFeatureExtraction()\n",
        "\n",
        "    def clean_name(self, file_name):\n",
        "        # 这里需要定义或复制 clean_name 函数的实现\n",
        "        return file_name\n",
        "\n",
        "    def extract_visual_features(self, screenshot_files):\n",
        "        screenshots = [self.clean_name(f) for f in screenshot_files]\n",
        "        return self.visual_extractor.extract(screenshots)\n",
        "\n",
        "    def extract_audio_features(self, audio_files):\n",
        "        voice_files = [self.clean_name(f) for f in audio_files]\n",
        "        return self.audio_extractor.extract_from_files(voice_files)\n",
        "\n",
        "    def extract(self, meta_data):\n",
        "        # Extract visual features\n",
        "        screenshots = meta_data[\"screenshot_file\"].values\n",
        "        visual_features = self.extract_visual_features(screenshots)\n",
        "\n",
        "        # Extract audio features\n",
        "        audio_files = meta_data[\"audio_file\"].values\n",
        "        audio_features = self.extract_audio_features(audio_files)\n",
        "\n",
        "        # Append new features to the DataFrame\n",
        "        meta_data['visual_feature'] = pd.Series(visual_features)\n",
        "        meta_data['audio_feature'] = pd.Series(audio_features)\n",
        "\n",
        "        return meta_data\n"
      ],
      "metadata": {
        "id": "P6LTyQbYTva9"
      },
      "execution_count": 15,
      "outputs": []
    },
    {
      "cell_type": "code",
      "source": [
        "# ZIP 文件所在的文件夹路径\n",
        "feature_save_folder = \"/content/drive/MyDrive/Speaker/feature/\"\n",
        "\n",
        "if not os.path.exists(feature_save_folder):\n",
        "    os.makedirs(feature_save_folder)"
      ],
      "metadata": {
        "id": "dcccARNzVxep"
      },
      "execution_count": 18,
      "outputs": []
    },
    {
      "cell_type": "code",
      "source": [
        "extractor = AudioVisualExtractor()\n",
        "\n",
        "for meta_data, zip_file_name in zip(meta_datas, zip_file_names):\n",
        "    clean_name = zip_file_name.replace(\".zip\", \"\")\n",
        "    print(f\"now dealing with {clean_name}\")\n",
        "    parquet_save_name = f\"{clean_name}.parquet\"\n",
        "    parquet_save_name = os.path.join(feature_save_folder, parquet_save_name)\n",
        "    new_meta_data = extractor.extract(meta_data)\n",
        "    new_meta_data.to_parquet(parquet_save_name, index=False)"
      ],
      "metadata": {
        "colab": {
          "base_uri": "https://localhost:8080/"
        },
        "id": "3Yi6St-JT0IL",
        "outputId": "1d1eab51-bb99-4afa-cdd7-114e255b3a24"
      },
      "execution_count": null,
      "outputs": [
        {
          "output_type": "stream",
          "name": "stdout",
          "text": [
            "now dealing with 亮剑12\n"
          ]
        },
        {
          "output_type": "stream",
          "name": "stderr",
          "text": [
            "100%|██████████| 61/61 [00:48<00:00,  1.27it/s]\n",
            " 47%|████▋     | 451/963 [00:12<00:12, 40.66it/s]"
          ]
        }
      ]
    },
    {
      "cell_type": "code",
      "source": [],
      "metadata": {
        "id": "jFa8MHZYWCm_"
      },
      "execution_count": null,
      "outputs": []
    }
  ]
}