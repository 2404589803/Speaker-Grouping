{
  "nbformat": 4,
  "nbformat_minor": 0,
  "metadata": {
    "colab": {
      "provenance": [],
      "gpuType": "T4",
      "authorship_tag": "ABX9TyMqGqhVygMeAIJXd8QbF7Ph",
      "include_colab_link": true
    },
    "kernelspec": {
      "name": "python3",
      "display_name": "Python 3"
    },
    "language_info": {
      "name": "python"
    },
    "accelerator": "GPU"
  },
  "cells": [
    {
      "cell_type": "markdown",
      "metadata": {
        "id": "view-in-github",
        "colab_type": "text"
      },
      "source": [
        "<a href=\"https://colab.research.google.com/github/LC1332/Speaker-Grouping/blob/main/notebook/%E8%B7%A8%E5%A4%9A%E4%B8%AA%E8%A7%86%E9%A2%91%E6%8A%BD%E5%8F%96%E5%9B%BE%E7%89%87%E5%92%8C%E9%9F%B3%E9%A2%91%E7%89%B9%E5%BE%81.ipynb\" target=\"_parent\"><img src=\"https://colab.research.google.com/assets/colab-badge.svg\" alt=\"Open In Colab\"/></a>"
      ]
    },
    {
      "cell_type": "markdown",
      "source": [
        "- [ ] 批量载入数据，批量解压缩\n",
        "- [ ] 构造meta\n",
        "- [ ] clone音频抽取，wget图片特征\n",
        "- [ ] 重构一个抽取类，输入meta和文件夹"
      ],
      "metadata": {
        "id": "CNEpne4dQyZD"
      }
    },
    {
      "cell_type": "markdown",
      "source": [
        "# 批量载入"
      ],
      "metadata": {
        "id": "uAZVFOStRJHc"
      }
    },
    {
      "cell_type": "code",
      "execution_count": 1,
      "metadata": {
        "colab": {
          "base_uri": "https://localhost:8080/"
        },
        "id": "zJ_Cy-75QuLx",
        "outputId": "46a33e5e-cd21-4869-c495-38678e2a581b"
      },
      "outputs": [
        {
          "output_type": "stream",
          "name": "stdout",
          "text": [
            "Mounted at /content/drive\n"
          ]
        }
      ],
      "source": [
        "from google.colab import drive\n",
        "drive.mount('/content/drive')"
      ]
    },
    {
      "cell_type": "code",
      "source": [
        "!ls /content/drive/MyDrive/Speaker/data"
      ],
      "metadata": {
        "colab": {
          "base_uri": "https://localhost:8080/"
        },
        "id": "NYPr1m8BRHxz",
        "outputId": "c8951454-9b9d-4054-80b5-e1bdf4ecea09"
      },
      "execution_count": 2,
      "outputs": [
        {
          "output_type": "stream",
          "name": "stdout",
          "text": [
            "haruhi_03.zip  liangjian_10.zip  亮剑12.zip  亮剑13.zip  亮剑15.zip  亮剑20.zip\n"
          ]
        }
      ]
    },
    {
      "cell_type": "code",
      "source": [
        "import shutil\n",
        "import zipfile\n",
        "import os\n",
        "\n",
        "def unzip_file(zip_file_name, zip_file_folder, target_dir=\"/content/\"):\n",
        "    \"\"\"\n",
        "    解压指定的 ZIP 文件到目标目录。\n",
        "\n",
        "    参数:\n",
        "    zip_file_name (str): ZIP 文件的名称。\n",
        "    zip_file_folder (str): ZIP 文件所在的文件夹路径。\n",
        "    target_dir (str): 解压后的目标文件夹路径，默认为 \"/content/\"。\n",
        "    \"\"\"\n",
        "    # 构建完整的 ZIP 文件路径\n",
        "    zip_path = os.path.join(zip_file_folder, zip_file_name)\n",
        "\n",
        "    # 复制 ZIP 文件到目标目录\n",
        "    shutil.copy(zip_path, target_dir)\n",
        "\n",
        "    # 构建解压后的目标文件夹路径\n",
        "    unzip_folder = os.path.join(target_dir, zip_file_name.replace('.zip', ''))\n",
        "\n",
        "    # 创建目标文件夹\n",
        "    if not os.path.exists(unzip_folder):\n",
        "        os.makedirs(unzip_folder)\n",
        "\n",
        "    # 解压 ZIP 文件\n",
        "    with zipfile.ZipFile(os.path.join(target_dir, zip_file_name), 'r') as zip_ref:\n",
        "        zip_ref.extractall(unzip_folder)\n",
        "\n",
        "    print(f'文件已解压到 {unzip_folder}')\n",
        "\n",
        "# ZIP 文件名列表\n",
        "zip_file_names = [\"亮剑12.zip\", \"亮剑13.zip\", \"亮剑15.zip\", \"亮剑20.zip\"]\n",
        "\n",
        "# ZIP 文件所在的文件夹路径\n",
        "zip_file_folder = \"/content/drive/MyDrive/Speaker/data/\"\n",
        "\n",
        "# 批量解压 ZIP 文件\n",
        "for zip_file_name in zip_file_names:\n",
        "    unzip_file(zip_file_name, zip_file_folder)\n"
      ],
      "metadata": {
        "colab": {
          "base_uri": "https://localhost:8080/"
        },
        "id": "FpdUPwfWRyEh",
        "outputId": "a6818c65-e38b-48e6-ac99-778a9b83599a"
      },
      "execution_count": 4,
      "outputs": [
        {
          "output_type": "stream",
          "name": "stdout",
          "text": [
            "文件已解压到 /content/亮剑12\n",
            "文件已解压到 /content/亮剑13\n",
            "文件已解压到 /content/亮剑15\n",
            "文件已解压到 /content/亮剑20\n"
          ]
        }
      ]
    },
    {
      "cell_type": "markdown",
      "source": [
        "# 批量构造meta"
      ],
      "metadata": {
        "id": "RPoeuRHZSG4t"
      }
    },
    {
      "cell_type": "code",
      "source": [
        "source_dirs = []\n",
        "for file_name in zip_file_names:\n",
        "    abstract_name = file_name.replace('.zip', '')\n",
        "    source_dirs.append(f\"/content/{abstract_name}/{abstract_name}\")"
      ],
      "metadata": {
        "id": "to3_4iAWR9bG"
      },
      "execution_count": 5,
      "outputs": []
    },
    {
      "cell_type": "code",
      "source": [
        "import pandas as pd\n",
        "\n",
        "def get_meta_data( source_dir ):\n",
        "    # 定义存有 JSONL 文件的目录\n",
        "    jsonl_file = f\"{source_dir}/meta.jsonl\"\n",
        "\n",
        "    # 读取 JSONL 文件到 pandas DataFrame\n",
        "    # lines=True 表示文件中的每一行都是一个独立的 JSON 对象\n",
        "    meta_data = pd.read_json(jsonl_file, lines=True)\n",
        "\n",
        "    # 确认 'screenshot_file' 列名是否正确，如果拼写错误则修正\n",
        "    if 'screeshot_file' in meta_data.columns:\n",
        "        meta_data.rename(columns={'screeshot_file': 'screenshot_file'}, inplace=True)\n",
        "\n",
        "    # 更新 audio_file 和 screenshot_file 列，增加 source_dir 路径\n",
        "    meta_data['audio_file'] = meta_data['audio_file'].apply(lambda x: os.path.join(source_dir, x))\n",
        "    meta_data['screenshot_file'] = meta_data['screenshot_file'].apply(lambda x: os.path.join(source_dir, x))\n",
        "\n",
        "    return meta_data\n",
        "\n",
        "meta_datas = [get_meta_data( source_dir ) for source_dir in source_dirs]\n",
        "\n",
        "print(meta_datas[0].head())\n"
      ],
      "metadata": {
        "colab": {
          "base_uri": "https://localhost:8080/"
        },
        "id": "NFoIhWwUSW0a",
        "outputId": "30b3ff0c-06b5-4d97-863f-db524d92de87"
      },
      "execution_count": 11,
      "outputs": [
        {
          "output_type": "stream",
          "name": "stdout",
          "text": [
            "    人物           人物台词          开始时间          结束时间  \\\n",
            "0  方立功    如果我们打掉了他的汽车  00:01:29.460  00:01:36.320   \n",
            "1  方立功      他就会经过电牌得志  00:01:36.320  00:01:38.560   \n",
            "2  方立功  那么他去西极据点就毫无意义  00:01:38.560  00:01:42.680   \n",
            "3  方立功   我想 他会向平安县城靠拢  00:01:42.680  00:01:49.440   \n",
            "4  方立功     将军岭是他的必经之地  00:01:49.440  00:01:52.400   \n",
            "\n",
            "                        audio_file                      screenshot_file  \n",
            "0  /content/亮剑12/亮剑12/audios/0.wav  /content/亮剑12/亮剑12/screeshots/0.jpg  \n",
            "1  /content/亮剑12/亮剑12/audios/1.wav  /content/亮剑12/亮剑12/screeshots/1.jpg  \n",
            "2  /content/亮剑12/亮剑12/audios/2.wav  /content/亮剑12/亮剑12/screeshots/2.jpg  \n",
            "3  /content/亮剑12/亮剑12/audios/3.wav  /content/亮剑12/亮剑12/screeshots/3.jpg  \n",
            "4  /content/亮剑12/亮剑12/audios/4.wav  /content/亮剑12/亮剑12/screeshots/4.jpg  \n"
          ]
        }
      ]
    },
    {
      "cell_type": "markdown",
      "source": [
        "# 安装环境"
      ],
      "metadata": {
        "id": "uCC2LGvsTm-H"
      }
    },
    {
      "cell_type": "code",
      "source": [
        "!git clone --filter=blob:none --no-checkout https://github.com/LC1332/Legacy-Haruhi-1.0\n",
        "%cd Legacy-Haruhi-1.0\n",
        "!git sparse-checkout init --cone\n",
        "!git sparse-checkout set yuki_builder/audio_feature_ext\n",
        "!git checkout\n",
        "\n",
        "%cd /content/Legacy-Haruhi-1.0/yuki_builder\n",
        "\n",
        "!wget -q https://raw.githubusercontent.com/LC1332/simple-face-recognition/main/CLIPExtractor.py"
      ],
      "metadata": {
        "colab": {
          "base_uri": "https://localhost:8080/"
        },
        "id": "6qT6hm_OSt7f",
        "outputId": "b7dc42c1-36b0-4b7d-a8ba-10c1a6750a11"
      },
      "execution_count": 12,
      "outputs": [
        {
          "output_type": "stream",
          "name": "stdout",
          "text": [
            "Cloning into 'Legacy-Haruhi-1.0'...\n",
            "remote: Enumerating objects: 316, done.\u001b[K\n",
            "remote: Counting objects: 100% (2/2), done.\u001b[K\n",
            "remote: Total 316 (delta 0), reused 2 (delta 0), pack-reused 314\u001b[K\n",
            "Receiving objects: 100% (316/316), 333.37 KiB | 20.83 MiB/s, done.\n",
            "Resolving deltas: 100% (6/6), done.\n",
            "/content/Legacy-Haruhi-1.0\n",
            "remote: Enumerating objects: 25, done.\u001b[K\n",
            "remote: Counting objects: 100% (1/1), done.\u001b[K\n",
            "remote: Total 25 (delta 0), reused 1 (delta 0), pack-reused 24\u001b[K\n",
            "Receiving objects: 100% (25/25), 50.88 KiB | 16.96 MiB/s, done.\n",
            "Your branch is up to date with 'origin/main'.\n",
            "/content/Legacy-Haruhi-1.0/yuki_builder\n"
          ]
        }
      ]
    },
    {
      "cell_type": "code",
      "source": [
        "import os\n",
        "import pandas as pd\n",
        "from CLIPExtractor import CLIPExtractor\n",
        "from audio_feature_ext.audio_fea_ext import AudioFeatureExtraction\n",
        "from tqdm import tqdm\n",
        "\n",
        "\n",
        "class NewAudioFeatureExtraction(AudioFeatureExtraction):\n",
        "    def extract_from_files(self, voice_files):\n",
        "        features = []\n",
        "        for file in tqdm(voice_files):\n",
        "            try:\n",
        "                feature = self.infer(file)[0]\n",
        "                features.append(feature)\n",
        "            except Exception as e:\n",
        "                print(f\"Error processing file {file}: {str(e)}\")\n",
        "                features.append([])\n",
        "                continue\n",
        "        return features\n",
        "\n",
        "\n",
        "class AudioVisualExtractor:\n",
        "    def __init__(self):\n",
        "        self.visual_extractor = CLIPExtractor()\n",
        "        self.audio_extractor = NewAudioFeatureExtraction()\n",
        "\n",
        "    def clean_name(self, file_name):\n",
        "        # 这里需要定义或复制 clean_name 函数的实现\n",
        "        return file_name\n",
        "\n",
        "    def extract_visual_features(self, screenshot_files):\n",
        "        screenshots = [self.clean_name(f) for f in screenshot_files]\n",
        "        return self.visual_extractor.extract(screenshots)\n",
        "\n",
        "    def extract_audio_features(self, audio_files):\n",
        "        voice_files = [self.clean_name(f) for f in audio_files]\n",
        "        return self.audio_extractor.extract_from_files(voice_files)\n",
        "\n",
        "    def extract(self, meta_data):\n",
        "        # Extract visual features\n",
        "        screenshots = meta_data[\"screenshot_file\"].values\n",
        "        visual_features = self.extract_visual_features(screenshots)\n",
        "\n",
        "        # Extract audio features\n",
        "        audio_files = meta_data[\"audio_file\"].values\n",
        "        audio_features = self.extract_audio_features(audio_files)\n",
        "\n",
        "        # Append new features to the DataFrame\n",
        "        meta_data['visual_feature'] = pd.Series(visual_features)\n",
        "        meta_data['audio_feature'] = pd.Series(audio_features)\n",
        "\n",
        "        return meta_data\n"
      ],
      "metadata": {
        "id": "P6LTyQbYTva9"
      },
      "execution_count": 15,
      "outputs": []
    },
    {
      "cell_type": "code",
      "source": [
        "# ZIP 文件所在的文件夹路径\n",
        "feature_save_folder = \"/content/drive/MyDrive/Speaker/feature/\"\n",
        "\n",
        "if not os.path.exists(feature_save_folder):\n",
        "    os.makedirs(feature_save_folder)"
      ],
      "metadata": {
        "id": "dcccARNzVxep"
      },
      "execution_count": 18,
      "outputs": []
    },
    {
      "cell_type": "code",
      "source": [
        "extractor = AudioVisualExtractor()\n",
        "\n",
        "for meta_data, zip_file_name in zip(meta_datas, zip_file_names):\n",
        "    clean_name = zip_file_name.replace(\".zip\", \"\")\n",
        "    print(f\"now dealing with {clean_name}\")\n",
        "    parquet_save_name = f\"{clean_name}.parquet\"\n",
        "    parquet_save_name = os.path.join(feature_save_folder, parquet_save_name)\n",
        "    new_meta_data = extractor.extract(meta_data)\n",
        "    new_meta_data.to_parquet(parquet_save_name, index=False)"
      ],
      "metadata": {
        "colab": {
          "base_uri": "https://localhost:8080/"
        },
        "id": "3Yi6St-JT0IL",
        "outputId": "1d1eab51-bb99-4afa-cdd7-114e255b3a24"
      },
      "execution_count": 19,
      "outputs": [
        {
          "output_type": "stream",
          "name": "stdout",
          "text": [
            "now dealing with 亮剑12\n"
          ]
        },
        {
          "output_type": "stream",
          "name": "stderr",
          "text": [
            "100%|██████████| 61/61 [00:48<00:00,  1.27it/s]\n",
            "100%|██████████| 963/963 [00:27<00:00, 34.62it/s]\n"
          ]
        },
        {
          "output_type": "stream",
          "name": "stdout",
          "text": [
            "now dealing with 亮剑13\n"
          ]
        },
        {
          "output_type": "stream",
          "name": "stderr",
          "text": [
            "100%|██████████| 57/57 [00:45<00:00,  1.25it/s]\n",
            "  1%|          | 5/897 [00:00<00:23, 38.41it/s]/content/Legacy-Haruhi-1.0/yuki_builder/audio_feature_ext/data_utils/reader.py:31: UserWarning: PySoundFile failed. Trying audioread instead.\n",
            "  wav, sr_ret = librosa.load(audio_path, sr=sr)\n",
            "/usr/local/lib/python3.10/dist-packages/librosa/core/audio.py:183: FutureWarning: librosa.core.audio.__audioread_load\n",
            "\tDeprecated as of librosa version 0.10.0.\n",
            "\tIt will be removed in librosa version 1.0.\n",
            "  y, sr_native = __audioread_load(path, offset, duration, dtype)\n",
            "  1%|▏         | 13/897 [00:00<00:28, 31.35it/s]"
          ]
        },
        {
          "output_type": "stream",
          "name": "stdout",
          "text": [
            "Error processing file /content/亮剑13/亮剑13/audios/8.wav: [Errno 2] No such file or directory: '/content/亮剑13/亮剑13/audios/8.wav'\n"
          ]
        },
        {
          "output_type": "stream",
          "name": "stderr",
          "text": [
            "100%|██████████| 897/897 [00:30<00:00, 29.53it/s]\n"
          ]
        },
        {
          "output_type": "stream",
          "name": "stdout",
          "text": [
            "now dealing with 亮剑15\n"
          ]
        },
        {
          "output_type": "stream",
          "name": "stderr",
          "text": [
            "100%|██████████| 59/59 [00:47<00:00,  1.24it/s]\n",
            "100%|██████████| 933/933 [00:32<00:00, 28.48it/s]\n"
          ]
        },
        {
          "output_type": "stream",
          "name": "stdout",
          "text": [
            "now dealing with 亮剑20\n"
          ]
        },
        {
          "output_type": "stream",
          "name": "stderr",
          "text": [
            "100%|██████████| 50/50 [00:39<00:00,  1.27it/s]\n",
            "100%|██████████| 786/786 [00:28<00:00, 27.18it/s]\n"
          ]
        }
      ]
    },
    {
      "cell_type": "markdown",
      "source": [
        "---\n",
        "\n",
        "debug一下亮剑13"
      ],
      "metadata": {
        "id": "x_h54ErsXPY8"
      }
    },
    {
      "cell_type": "code",
      "source": [
        "print(zip_file_names[1])"
      ],
      "metadata": {
        "colab": {
          "base_uri": "https://localhost:8080/"
        },
        "id": "jFa8MHZYWCm_",
        "outputId": "6133030b-7dac-472c-bf66-ab3460a68911"
      },
      "execution_count": 20,
      "outputs": [
        {
          "output_type": "stream",
          "name": "stdout",
          "text": [
            "亮剑13.zip\n"
          ]
        }
      ]
    },
    {
      "cell_type": "code",
      "source": [
        "extractor = AudioVisualExtractor()\n",
        "\n",
        "for meta_data, zip_file_name in zip(meta_datas[1:], zip_file_names[1:]):\n",
        "    clean_name = zip_file_name.replace(\".zip\", \"\")\n",
        "    print(f\"now dealing with {clean_name}\")\n",
        "    parquet_save_name = f\"{clean_name}.parquet\"\n",
        "    parquet_save_name = os.path.join(feature_save_folder, parquet_save_name)\n",
        "    new_meta_data = extractor.extract(meta_data)\n",
        "    new_meta_data.to_parquet(parquet_save_name, index=False)\n",
        "    break"
      ],
      "metadata": {
        "colab": {
          "base_uri": "https://localhost:8080/"
        },
        "id": "PX3kTueCXU1D",
        "outputId": "9e9f19a3-12a5-4232-8274-a4fddc7ddcc3"
      },
      "execution_count": 21,
      "outputs": [
        {
          "output_type": "stream",
          "name": "stdout",
          "text": [
            "成功加载模型参数和优化方法参数：./audio_feature_ext/models/model.pth\n",
            "now dealing with 亮剑13\n"
          ]
        },
        {
          "output_type": "stream",
          "name": "stderr",
          "text": [
            "100%|██████████| 57/57 [00:46<00:00,  1.24it/s]\n",
            "  1%|          | 7/897 [00:00<00:31, 28.43it/s]/content/Legacy-Haruhi-1.0/yuki_builder/audio_feature_ext/data_utils/reader.py:31: UserWarning: PySoundFile failed. Trying audioread instead.\n",
            "  wav, sr_ret = librosa.load(audio_path, sr=sr)\n",
            "/usr/local/lib/python3.10/dist-packages/librosa/core/audio.py:183: FutureWarning: librosa.core.audio.__audioread_load\n",
            "\tDeprecated as of librosa version 0.10.0.\n",
            "\tIt will be removed in librosa version 1.0.\n",
            "  y, sr_native = __audioread_load(path, offset, duration, dtype)\n",
            "  2%|▏         | 15/897 [00:00<00:28, 31.33it/s]"
          ]
        },
        {
          "output_type": "stream",
          "name": "stdout",
          "text": [
            "Error processing file /content/亮剑13/亮剑13/audios/8.wav: [Errno 2] No such file or directory: '/content/亮剑13/亮剑13/audios/8.wav'\n"
          ]
        },
        {
          "output_type": "stream",
          "name": "stderr",
          "text": [
            "100%|██████████| 897/897 [00:32<00:00, 27.56it/s]\n"
          ]
        }
      ]
    },
    {
      "cell_type": "code",
      "source": [
        "# 目标文件路径\n",
        "target_audio_file = \"/content/亮剑13/亮剑13/audios/120.wav\"\n",
        "\n",
        "# 查找 audio_file 等于目标路径的条目\n",
        "matched_row = new_meta_data[new_meta_data['audio_file'] == target_audio_file]\n",
        "\n",
        "# 输出对应的 audio_feature\n",
        "if not matched_row.empty:\n",
        "    print(\"对应的 audio_feature:\", matched_row['audio_feature'].iloc[0])\n",
        "else:\n",
        "    print(\"未找到匹配的 audio_file\")"
      ],
      "metadata": {
        "colab": {
          "base_uri": "https://localhost:8080/"
        },
        "id": "RhzQxnV2XYvP",
        "outputId": "a38cdce3-1526-4be9-bbd1-8e076c27d7e6"
      },
      "execution_count": 26,
      "outputs": [
        {
          "output_type": "stream",
          "name": "stdout",
          "text": [
            "对应的 audio_feature: [ 0.12073985  0.3657603  -0.2864693   0.43930715 -0.88148874  0.24201965\n",
            "  0.06458279  0.19860567  0.32381234  0.33796006  0.06790031  0.12731856\n",
            "  0.07460412  0.20742892 -0.26658362 -0.20286873  0.03827411 -0.11215688\n",
            "  0.01889909 -0.32150382  0.01118484  0.42687038  0.6325926   0.37658387\n",
            "  0.60530436  0.2805276  -0.40332288 -0.06548204  0.22258905 -0.10253058\n",
            "  0.5280838  -0.5847788   0.31074667  0.15157887  0.36301586  0.31054264\n",
            "  0.13953984 -0.266242    0.34274024  0.3241231   0.30233574 -0.02279588\n",
            " -0.0386171   0.13741873 -0.28775272 -0.1222585   0.59870374  0.3138606\n",
            "  0.91231143  0.4630479   0.3885781   0.31377798 -0.1760605  -0.14160915\n",
            "  0.00311224  0.00369695  0.00681308 -0.17850076 -0.13337201 -0.06730812\n",
            "  0.10571513 -0.2623052   0.46299276  0.13358262  0.33871222 -0.20275323\n",
            " -0.2415716  -0.2382633   0.5482798   0.5345129  -0.28240526 -0.02036805\n",
            " -0.35367018 -0.24294575  0.6281786   0.25673875  0.3709672  -0.00921646\n",
            "  0.03243762 -0.20351136 -0.18162198  0.5520888  -0.44060558  0.24342799\n",
            " -0.34517616  0.3060849  -0.46134874  0.12540896  0.12351976 -0.0601692\n",
            " -0.21376199  0.2847362  -0.28848898 -0.20445405 -0.35291108 -0.04672715\n",
            " -0.6499836   0.27984565  0.1665868   0.06005143  0.28125808  0.12629716\n",
            " -0.63016164  0.56643224  0.323232   -0.5219187   0.10763129  0.1728876\n",
            " -0.52426285 -0.08729295  0.7085786   0.26534227 -0.01842034 -0.17461465\n",
            "  0.03947132 -0.23211345  0.39731926 -0.52870625 -0.3574869  -0.01353495\n",
            " -0.01832425  0.5101867  -0.03822291 -0.18778802 -0.04980271  0.17803259\n",
            " -0.15675844 -0.03172563  0.36717385 -0.25605533 -0.4434529  -0.3356795\n",
            "  0.3333909   0.25373232  0.533066    0.415969    0.24133272 -0.07258797\n",
            " -0.46021172  0.39447704 -0.5695564  -0.3456223   0.00384967 -0.12540433\n",
            "  0.24680395  0.79157007 -0.04202742  0.17766489 -0.21621223  0.5423871\n",
            "  0.46604735  0.20104285  0.7479074   0.16032599 -0.39421093 -0.25602898\n",
            "  0.18674496 -0.15553509  0.06703747  0.09539472  0.41264862  0.06250682\n",
            "  0.64674616  0.6029239   0.3602636   0.24995334 -0.15863329 -0.17998344\n",
            "  0.07874324  0.52743506  0.19013186 -0.04450901 -0.4279487  -0.33673608\n",
            " -0.19306311 -0.26029646 -0.6519692   0.2901194   0.32306132 -0.340625\n",
            " -0.43041524  0.110112    0.1359233  -0.45017046 -0.30350772  0.00246737\n",
            "  0.17695169  0.06887402 -0.10938906  0.57417375  0.86560756 -0.07076614]\n"
          ]
        }
      ]
    },
    {
      "cell_type": "code",
      "source": [
        "audio_extractor = extractor.audio_extractor\n",
        "\n",
        "check_feature = audio_extractor.infer(target_audio_file)[0]\n",
        "print(check_feature)"
      ],
      "metadata": {
        "colab": {
          "base_uri": "https://localhost:8080/"
        },
        "id": "5jucpa0-XwZV",
        "outputId": "be10bc69-7966-4ec6-fc45-abfc92a912d1"
      },
      "execution_count": 27,
      "outputs": [
        {
          "output_type": "stream",
          "name": "stdout",
          "text": [
            "[ 0.12073985  0.3657603  -0.2864693   0.43930715 -0.88148874  0.24201965\n",
            "  0.06458279  0.19860567  0.32381234  0.33796006  0.06790031  0.12731856\n",
            "  0.07460412  0.20742892 -0.26658362 -0.20286873  0.03827411 -0.11215688\n",
            "  0.01889909 -0.32150382  0.01118484  0.42687038  0.6325926   0.37658387\n",
            "  0.60530436  0.2805276  -0.40332288 -0.06548204  0.22258905 -0.10253058\n",
            "  0.5280838  -0.5847788   0.31074667  0.15157887  0.36301586  0.31054264\n",
            "  0.13953984 -0.266242    0.34274024  0.3241231   0.30233574 -0.02279588\n",
            " -0.0386171   0.13741873 -0.28775272 -0.1222585   0.59870374  0.3138606\n",
            "  0.91231143  0.4630479   0.3885781   0.31377798 -0.1760605  -0.14160915\n",
            "  0.00311224  0.00369695  0.00681308 -0.17850076 -0.13337201 -0.06730812\n",
            "  0.10571513 -0.2623052   0.46299276  0.13358262  0.33871222 -0.20275323\n",
            " -0.2415716  -0.2382633   0.5482798   0.5345129  -0.28240526 -0.02036805\n",
            " -0.35367018 -0.24294575  0.6281786   0.25673875  0.3709672  -0.00921646\n",
            "  0.03243762 -0.20351136 -0.18162198  0.5520888  -0.44060558  0.24342799\n",
            " -0.34517616  0.3060849  -0.46134874  0.12540896  0.12351976 -0.0601692\n",
            " -0.21376199  0.2847362  -0.28848898 -0.20445405 -0.35291108 -0.04672715\n",
            " -0.6499836   0.27984565  0.1665868   0.06005143  0.28125808  0.12629716\n",
            " -0.63016164  0.56643224  0.323232   -0.5219187   0.10763129  0.1728876\n",
            " -0.52426285 -0.08729295  0.7085786   0.26534227 -0.01842034 -0.17461465\n",
            "  0.03947132 -0.23211345  0.39731926 -0.52870625 -0.3574869  -0.01353495\n",
            " -0.01832425  0.5101867  -0.03822291 -0.18778802 -0.04980271  0.17803259\n",
            " -0.15675844 -0.03172563  0.36717385 -0.25605533 -0.4434529  -0.3356795\n",
            "  0.3333909   0.25373232  0.533066    0.415969    0.24133272 -0.07258797\n",
            " -0.46021172  0.39447704 -0.5695564  -0.3456223   0.00384967 -0.12540433\n",
            "  0.24680395  0.79157007 -0.04202742  0.17766489 -0.21621223  0.5423871\n",
            "  0.46604735  0.20104285  0.7479074   0.16032599 -0.39421093 -0.25602898\n",
            "  0.18674496 -0.15553509  0.06703747  0.09539472  0.41264862  0.06250682\n",
            "  0.64674616  0.6029239   0.3602636   0.24995334 -0.15863329 -0.17998344\n",
            "  0.07874324  0.52743506  0.19013186 -0.04450901 -0.4279487  -0.33673608\n",
            " -0.19306311 -0.26029646 -0.6519692   0.2901194   0.32306132 -0.340625\n",
            " -0.43041524  0.110112    0.1359233  -0.45017046 -0.30350772  0.00246737\n",
            "  0.17695169  0.06887402 -0.10938906  0.57417375  0.86560756 -0.07076614]\n"
          ]
        }
      ]
    },
    {
      "cell_type": "code",
      "source": [],
      "metadata": {
        "id": "8BRkhYseX-fT"
      },
      "execution_count": null,
      "outputs": []
    }
  ]
}