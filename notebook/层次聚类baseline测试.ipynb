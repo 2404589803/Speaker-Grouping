{
  "nbformat": 4,
  "nbformat_minor": 0,
  "metadata": {
    "colab": {
      "provenance": [],
      "authorship_tag": "ABX9TyO62bQ2jvqxKa5LdVllmqD1",
      "include_colab_link": true
    },
    "kernelspec": {
      "name": "python3",
      "display_name": "Python 3"
    },
    "language_info": {
      "name": "python"
    }
  },
  "cells": [
    {
      "cell_type": "markdown",
      "metadata": {
        "id": "view-in-github",
        "colab_type": "text"
      },
      "source": [
        "<a href=\"https://colab.research.google.com/github/LC1332/Speaker-Grouping/blob/main/notebook/%E5%B1%82%E6%AC%A1%E8%81%9A%E7%B1%BBbaseline%E6%B5%8B%E8%AF%95.ipynb\" target=\"_parent\"><img src=\"https://colab.research.google.com/assets/colab-badge.svg\" alt=\"Open In Colab\"/></a>"
      ]
    },
    {
      "cell_type": "markdown",
      "source": [
        "- [ ] 载入parquet\n",
        "- [ ] 进行层次聚类\n",
        "- [ ] 进行基础的测评"
      ],
      "metadata": {
        "id": "Y54uG3ax85WV"
      }
    },
    {
      "cell_type": "markdown",
      "source": [
        "# 载入Parquet，生成有待聚类的表格"
      ],
      "metadata": {
        "id": "I1q0MQzmBN7g"
      }
    },
    {
      "cell_type": "code",
      "execution_count": 1,
      "metadata": {
        "colab": {
          "base_uri": "https://localhost:8080/"
        },
        "id": "bZpPpWpB807B",
        "outputId": "ccb2f5cf-be03-4b4d-d9a5-67b6b60a02f2"
      },
      "outputs": [
        {
          "output_type": "stream",
          "name": "stdout",
          "text": [
            "所有列名：\n",
            "人物\n",
            "人物台词\n",
            "开始时间\n",
            "结束时间\n",
            "audio_file\n",
            "screeshot_file\n",
            "visual_feature\n",
            "audio_feature\n"
          ]
        }
      ],
      "source": [
        "import pandas as pd\n",
        "\n",
        "# 读取 Parquet 文件到 pandas DataFrame\n",
        "# data = pd.read_parquet(\"/content/liangjian_10_feature.parquet\")\n",
        "data = pd.read_parquet(\"/content/haruhi_03_feature.parquet\")\n",
        "\n",
        "# 打印所有列名\n",
        "print(\"所有列名：\")\n",
        "for col in data.columns:\n",
        "    print(col)\n"
      ]
    },
    {
      "cell_type": "markdown",
      "source": [
        "data是一个pandas的表格， 我希望生成一个新的表格 inference_data\n",
        "\n",
        "inference_data相当于从data中去掉 人物 为none的所有行\n",
        "\n",
        "然后进一步把人物这一列从inference_data中分离出来成为一个list叫做speakers\n",
        "\n",
        "请用python为我实现"
      ],
      "metadata": {
        "id": "4CBNO-RgBTBU"
      }
    },
    {
      "cell_type": "code",
      "source": [
        "# 从data中删除人物为None的所有行\n",
        "inference_data = data.dropna(subset=['人物'])\n",
        "\n",
        "# 将人物这一列分离出来成为一个list\n",
        "speakers = inference_data['人物'].tolist()\n",
        "\n",
        "inference_data = inference_data.drop(columns=['人物'])\n",
        "\n",
        "# 打印所有列名\n",
        "print(\"所有列名：\")\n",
        "for col in inference_data.columns:\n",
        "    print(col)\n",
        "\n",
        "print(len(inference_data))\n",
        "print(speakers[:10])"
      ],
      "metadata": {
        "colab": {
          "base_uri": "https://localhost:8080/"
        },
        "id": "6w_XzVKxBSPb",
        "outputId": "c4d5deee-b1be-4883-afbf-96eed041db71"
      },
      "execution_count": 6,
      "outputs": [
        {
          "output_type": "stream",
          "name": "stdout",
          "text": [
            "所有列名：\n",
            "人物台词\n",
            "开始时间\n",
            "结束时间\n",
            "audio_file\n",
            "screeshot_file\n",
            "visual_feature\n",
            "audio_feature\n",
            "440\n",
            "['长门', '长门', '阿虚', '长门', '长门', '长门', '长门', '长门', '长门', '长门']\n"
          ]
        }
      ]
    },
    {
      "cell_type": "markdown",
      "source": [
        "# audio特征形成baseline"
      ],
      "metadata": {
        "id": "edoiAXC7CL63"
      }
    },
    {
      "cell_type": "markdown",
      "source": [
        "我有一个pandas表格inference_data\n",
        "\n",
        "我希望用表格中的audio_feature 进行cosine度量的 层次聚类，最终输出的类个数大约为10个，cosine similarity的阈值大约为0.55\n",
        "\n",
        "请为我实现一个python函数，输入是inference_data ，输出是list of int为聚类的结果"
      ],
      "metadata": {
        "id": "MeNGLMuvCUq0"
      }
    },
    {
      "cell_type": "code",
      "source": [
        "import numpy as np\n",
        "from scipy.spatial.distance import pdist, squareform\n",
        "from scipy.cluster.hierarchy import linkage, fcluster\n",
        "\n",
        "def hierarchical_clustering(data, sim_threshold=0.55, feature_name = \"audio_feature\"):\n",
        "    \"\"\"\n",
        "    Perform hierarchical clustering on audio features using cosine similarity.\n",
        "\n",
        "    :param data: DataFrame containing an 'audio_feature' column with audio features.\n",
        "    :param num_clusters: Desired number of clusters, defaults to 10.\n",
        "    :param sim_threshold: Cosine similarity threshold, defaults to 0.55.\n",
        "    :return: List of integers representing cluster assignments.\n",
        "    \"\"\"\n",
        "    # Extract audio features\n",
        "    features = np.stack(data[feature_name].values)\n",
        "\n",
        "    # Compute pairwise distances using cosine metric\n",
        "    distances = pdist(features, metric='cosine')\n",
        "\n",
        "    # Perform hierarchical clustering\n",
        "    Z = linkage(distances, method='average')\n",
        "\n",
        "    # Form clusters based on similarity threshold\n",
        "    # Convert cosine similarity to distance\n",
        "    distance_threshold = 1 - sim_threshold\n",
        "    cluster_labels = fcluster(Z, t=distance_threshold, criterion='distance')\n",
        "\n",
        "    # Create a new mapping for labels to make them continuous from 0\n",
        "    unique_labels = np.unique(cluster_labels)\n",
        "    label_mapping = {old_label: new_label for new_label, old_label in enumerate(unique_labels)}\n",
        "    continuous_labels = [label_mapping[label] for label in cluster_labels]\n",
        "\n",
        "    return continuous_labels\n",
        "\n",
        "# Since I cannot run this without the actual data, please run this on your local machine where your data is available.\n",
        "# Example usage:\n",
        "cluster_labels = hierarchical_clustering(inference_data,0.3, \"audio_feature\")\n",
        "print(cluster_labels[:30])\n"
      ],
      "metadata": {
        "colab": {
          "base_uri": "https://localhost:8080/"
        },
        "id": "_e23iLhPB1mO",
        "outputId": "971964aa-504d-4eec-baa9-148226b1d885"
      },
      "execution_count": 27,
      "outputs": [
        {
          "output_type": "stream",
          "name": "stdout",
          "text": [
            "[6, 6, 2, 6, 6, 6, 6, 6, 6, 6, 6, 6, 6, 6, 6, 6, 6, 6, 6, 6, 6, 6, 6, 6, 6, 6, 6, 6, 6, 6]\n"
          ]
        }
      ]
    },
    {
      "cell_type": "markdown",
      "source": [
        "# 进行统计"
      ],
      "metadata": {
        "id": "hYlOAReVEORy"
      }
    },
    {
      "cell_type": "markdown",
      "source": [
        "我现在有了聚类的结果\n",
        "\n",
        "cluster_labels是一个list of int\n",
        "\n",
        "以及speakers是一个list of string\n",
        "\n",
        "我希望统计pairwise级别的聚类precision和recall\n",
        "\n",
        "具体的步骤如下\n",
        "\n",
        "1. 累计True Positive的边的个数\n",
        "\n",
        "对于cluster_label = i 的所有结果，统计里面的不同speaker的样本个数\n",
        "\n",
        "N_1, N_2, .... N_M\n",
        "\n",
        "对TP边叔累计 sum_m N_m (N_m-1) /2\n",
        "\n",
        "2. 计算 True Positive + False Postive的个数\n",
        "\n",
        "对于各种cluster_label = i， 的样本数，如果是G_i\n",
        "\n",
        "统计 sum_i G_i (G_i-1) /2\n",
        "\n",
        "3. 计算 True Positive + False Negative的个数\n",
        "\n",
        "对于每一种speaker，假定这个spearker共有 D_i 个\n",
        "\n",
        "统计 sum_i D_i (D_i-1) / 2\n",
        "\n",
        "统计完三者之后，计算Edge级别的Precision和Recall\n",
        "\n",
        "实现一个python程序，输入是cluster_labels, speakers\n",
        "\n",
        "输出一个dict，至少包含precision和recall字段"
      ],
      "metadata": {
        "id": "I6LlOYjtESSx"
      }
    },
    {
      "cell_type": "code",
      "source": [
        "from collections import defaultdict\n",
        "import itertools\n",
        "\n",
        "def calculate_pairwise_precision_recall(cluster_labels, speakers):\n",
        "    \"\"\"\n",
        "    Calculate pairwise precision and recall for clustering results based on speaker labels.\n",
        "\n",
        "    :param cluster_labels: List of integers, cluster assignments for each sample.\n",
        "    :param speakers: List of strings, speaker identifiers for each sample.\n",
        "    :return: Dictionary containing 'precision' and 'recall'.\n",
        "    \"\"\"\n",
        "    # Group indices by cluster and by speaker\n",
        "    clusters = defaultdict(list)\n",
        "    speaker_groups = defaultdict(list)\n",
        "\n",
        "    for index, (cluster, speaker) in enumerate(zip(cluster_labels, speakers)):\n",
        "        clusters[cluster].append(speaker)\n",
        "        speaker_groups[speaker].append(index)\n",
        "\n",
        "    # Calculate True Positives (TP): sum of intra-cluster possible pairs of same speaker\n",
        "    TP = 0\n",
        "    for cluster, members in clusters.items():\n",
        "        speaker_count = defaultdict(int)\n",
        "        for speaker in members:\n",
        "            speaker_count[speaker] += 1\n",
        "        print(speaker_count)\n",
        "        for count in speaker_count.values():\n",
        "            TP += count * (count - 1) / 2\n",
        "\n",
        "    # Calculate True Positives + False Positives (TP + FP): sum of intra-cluster possible pairs\n",
        "    TP_FP = 0\n",
        "    for cluster, members in clusters.items():\n",
        "        count = len(members)\n",
        "        TP_FP += count * (count - 1) / 2\n",
        "\n",
        "    # Calculate True Positives + False Negatives (TP + FN): sum of all possible pairs of same speaker across clusters\n",
        "    TP_FN = 0\n",
        "    for speaker, indices in speaker_groups.items():\n",
        "        count = len(indices)\n",
        "        TP_FN += count * (count - 1) / 2\n",
        "\n",
        "    # Compute precision and recall\n",
        "    precision = TP / TP_FP if TP_FP > 0 else 0\n",
        "    recall = TP / TP_FN if TP_FN > 0 else 0\n",
        "\n",
        "    return {'precision': precision, 'recall': recall, 'TP': TP, 'TP_FP':TP_FP, 'TP_FN':TP_FN}\n",
        "\n",
        "# Example usage:\n",
        "results = calculate_pairwise_precision_recall(cluster_labels, speakers)\n",
        "print(results)\n",
        "\n"
      ],
      "metadata": {
        "colab": {
          "base_uri": "https://localhost:8080/"
        },
        "id": "-Sy6m8PsD-I3",
        "outputId": "2477a8b8-1e7e-4f87-f02e-cedf17d1b015"
      },
      "execution_count": 32,
      "outputs": [
        {
          "output_type": "stream",
          "name": "stdout",
          "text": [
            "defaultdict(<class 'int'>, {'长门': 60})\n",
            "defaultdict(<class 'int'>, {'阿虚': 5})\n",
            "defaultdict(<class 'int'>, {'阿虚': 149})\n",
            "defaultdict(<class 'int'>, {'阿虚': 4})\n",
            "defaultdict(<class 'int'>, {'春日': 67, '朝比奈': 2})\n",
            "defaultdict(<class 'int'>, {'春日': 5, '朝比奈': 6})\n",
            "defaultdict(<class 'int'>, {'朝比奈': 56, '阿虚': 1, '春日': 1})\n",
            "defaultdict(<class 'int'>, {'朝比奈': 1})\n",
            "defaultdict(<class 'int'>, {'古泉': 1})\n",
            "defaultdict(<class 'int'>, {'古泉': 75})\n",
            "defaultdict(<class 'int'>, {'春日': 2})\n",
            "defaultdict(<class 'int'>, {'阿虚': 2})\n",
            "defaultdict(<class 'int'>, {'阿虚': 1})\n",
            "defaultdict(<class 'int'>, {'春日': 1})\n",
            "defaultdict(<class 'int'>, {'阿虚': 1})\n",
            "{'precision': 0.9858982843761136, 'recall': 0.8511405089438755, 'TP': 19366.0, 'TP_FP': 19643.0, 'TP_FN': 22753.0}\n"
          ]
        }
      ]
    },
    {
      "cell_type": "code",
      "source": [
        "print(30*59)"
      ],
      "metadata": {
        "colab": {
          "base_uri": "https://localhost:8080/"
        },
        "id": "TMuTzDAMFfzs",
        "outputId": "e75e7ad9-4961-467a-e089-8e75e32835b5"
      },
      "execution_count": 31,
      "outputs": [
        {
          "output_type": "stream",
          "name": "stdout",
          "text": [
            "1770\n"
          ]
        }
      ]
    },
    {
      "cell_type": "markdown",
      "source": [
        "# 测一下亮剑"
      ],
      "metadata": {
        "id": "o_meaGHKHBtU"
      }
    },
    {
      "cell_type": "code",
      "source": [
        "import pandas as pd\n",
        "\n",
        "# 读取 Parquet 文件到 pandas DataFrame\n",
        "data = pd.read_parquet(\"/content/liangjian_10_feature.parquet\")\n",
        "\n",
        "# 从data中删除人物为None的所有行\n",
        "inference_data = data.dropna(subset=['人物'])\n",
        "\n",
        "# 将人物这一列分离出来成为一个list\n",
        "speakers = inference_data['人物'].tolist()\n",
        "\n",
        "inference_data = inference_data.drop(columns=['人物'])\n",
        "\n",
        "cluster_labels = hierarchical_clustering(inference_data,0.3, \"audio_feature\")\n",
        "print(cluster_labels[:30])\n",
        "\n",
        "# Example usage:\n",
        "results = calculate_pairwise_precision_recall(cluster_labels, speakers)\n",
        "print(results)"
      ],
      "metadata": {
        "colab": {
          "base_uri": "https://localhost:8080/"
        },
        "id": "Pt-dWJ6NGoky",
        "outputId": "d282c7fb-60dc-42fe-c656-b0ba51011e14"
      },
      "execution_count": 33,
      "outputs": [
        {
          "output_type": "stream",
          "name": "stdout",
          "text": [
            "[27, 27, 27, 27, 27, 27, 27, 27, 27, 27, 37, 23, 23, 23, 18, 23, 23, 14, 37, 31, 52, 52, 8, 61, 46, 25, 28, 28, 46, 46]\n",
            "defaultdict(<class 'int'>, {'段鹏': 10})\n",
            "defaultdict(<class 'int'>, {'李云龙': 157})\n",
            "defaultdict(<class 'int'>, {'李云龙': 5, '方立功': 1, '楚云飞': 1})\n",
            "defaultdict(<class 'int'>, {'李云龙': 2, '段鹏': 1, '和尚': 1})\n",
            "defaultdict(<class 'int'>, {'李云龙': 2})\n",
            "defaultdict(<class 'int'>, {'李云龙': 1})\n",
            "defaultdict(<class 'int'>, {'和尚': 2})\n",
            "defaultdict(<class 'int'>, {'和尚': 1})\n",
            "defaultdict(<class 'int'>, {'卧底': 1, '段鹏': 1, '小二': 2, '李云龙': 4, '方立功': 1, '和尚': 1, '楚云飞': 1, '路人士兵': 2, '站岗士兵': 1})\n",
            "defaultdict(<class 'int'>, {'和尚': 26, '李云龙': 1})\n",
            "defaultdict(<class 'int'>, {'卧底': 1, '楚云飞': 132, '李云龙': 1, '赵刚': 1, '方立功': 1})\n",
            "defaultdict(<class 'int'>, {'卧底': 23, '和尚': 2})\n",
            "defaultdict(<class 'int'>, {'店员': 1, '秀芹': 17})\n",
            "defaultdict(<class 'int'>, {'李云龙': 9})\n",
            "defaultdict(<class 'int'>, {'段鹏': 29, '赵刚': 1, '李云龙': 1})\n",
            "defaultdict(<class 'int'>, {'和尚': 1})\n",
            "defaultdict(<class 'int'>, {'段鹏': 1})\n",
            "defaultdict(<class 'int'>, {'段鹏': 1, '和尚': 2})\n",
            "defaultdict(<class 'int'>, {'李云龙': 1, '和尚': 3, '段鹏': 1})\n",
            "defaultdict(<class 'int'>, {'小二': 5, '小儿': 2})\n",
            "defaultdict(<class 'int'>, {'楚云飞': 1, '站岗士兵': 2, '路人士兵': 1})\n",
            "defaultdict(<class 'int'>, {'方立功': 4})\n",
            "defaultdict(<class 'int'>, {'李云龙': 1})\n",
            "defaultdict(<class 'int'>, {'楚云飞': 1, '李云龙': 1})\n",
            "defaultdict(<class 'int'>, {'李云龙': 7})\n",
            "defaultdict(<class 'int'>, {'楚云飞': 2, '李云龙': 2})\n",
            "defaultdict(<class 'int'>, {'楚云飞': 1, '李云龙': 10})\n",
            "defaultdict(<class 'int'>, {'李云龙': 2, '和尚': 2})\n",
            "defaultdict(<class 'int'>, {'李云龙': 28, '和尚': 1})\n",
            "defaultdict(<class 'int'>, {'李云龙': 5})\n",
            "defaultdict(<class 'int'>, {'李云龙': 1, '赵刚': 1, '段鹏': 1})\n",
            "defaultdict(<class 'int'>, {'李云龙': 1, '方立功': 1})\n",
            "defaultdict(<class 'int'>, {'李云龙': 4})\n",
            "defaultdict(<class 'int'>, {'李云龙': 3})\n",
            "defaultdict(<class 'int'>, {'和尚': 4, '李云龙': 1})\n",
            "defaultdict(<class 'int'>, {'李云龙': 1})\n",
            "defaultdict(<class 'int'>, {'李云龙': 1})\n",
            "defaultdict(<class 'int'>, {'和尚': 1})\n",
            "defaultdict(<class 'int'>, {'李云龙': 2})\n",
            "defaultdict(<class 'int'>, {'楚云飞': 1})\n",
            "defaultdict(<class 'int'>, {'李云龙': 1, '赵刚': 34})\n",
            "defaultdict(<class 'int'>, {'和尚': 1})\n",
            "defaultdict(<class 'int'>, {'和尚': 21, '段鹏': 1})\n",
            "defaultdict(<class 'int'>, {'段鹏': 2})\n",
            "defaultdict(<class 'int'>, {'和尚': 1, '路人士兵': 9})\n",
            "defaultdict(<class 'int'>, {'段鹏': 9})\n",
            "defaultdict(<class 'int'>, {'和尚': 1})\n",
            "defaultdict(<class 'int'>, {'段鹏': 2})\n",
            "defaultdict(<class 'int'>, {'和尚': 1})\n",
            "defaultdict(<class 'int'>, {'李云龙': 2})\n",
            "defaultdict(<class 'int'>, {'方立功': 61, '楚云飞': 1})\n",
            "defaultdict(<class 'int'>, {'方立功': 1})\n",
            "defaultdict(<class 'int'>, {'楚云飞': 1})\n",
            "defaultdict(<class 'int'>, {'楚云飞': 2, '方立功': 1})\n",
            "defaultdict(<class 'int'>, {'楚云飞': 1, '李云龙': 1})\n",
            "defaultdict(<class 'int'>, {'楚云飞': 2})\n",
            "defaultdict(<class 'int'>, {'路人士兵': 1, '朱子明': 6})\n",
            "defaultdict(<class 'int'>, {'李云龙': 1})\n",
            "defaultdict(<class 'int'>, {'秀芹': 1})\n",
            "defaultdict(<class 'int'>, {'李云龙': 1})\n",
            "defaultdict(<class 'int'>, {'李云龙': 2})\n",
            "defaultdict(<class 'int'>, {'秀芹': 27})\n",
            "defaultdict(<class 'int'>, {'李云龙': 1})\n",
            "defaultdict(<class 'int'>, {'李云龙': 1})\n",
            "{'precision': 0.9627016885553471, 'recall': 0.4727212426068211, 'TP': 25656.0, 'TP_FP': 26650.0, 'TP_FN': 54273.0}\n"
          ]
        }
      ]
    },
    {
      "cell_type": "code",
      "source": [],
      "metadata": {
        "id": "5nwQ_aABHQeV"
      },
      "execution_count": null,
      "outputs": []
    }
  ]
}